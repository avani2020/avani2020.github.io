{
  "nbformat": 4,
  "nbformat_minor": 0,
  "metadata": {
    "colab": {
      "provenance": [],
      "toc_visible": true,
      "authorship_tag": "ABX9TyMs3yq/WH51EomM6XJbrucB",
      "include_colab_link": true
    },
    "kernelspec": {
      "name": "python3",
      "display_name": "Python 3"
    },
    "language_info": {
      "name": "python"
    }
  },
  "cells": [
    {
      "cell_type": "markdown",
      "metadata": {
        "id": "view-in-github",
        "colab_type": "text"
      },
      "source": [
        "<a href=\"https://colab.research.google.com/github/avani2020/avani2020.github.io/blob/main/CV_implementation_on_martian_rover.ipynb\" target=\"_parent\"><img src=\"https://colab.research.google.com/assets/colab-badge.svg\" alt=\"Open In Colab\"/></a>"
      ]
    },
    {
      "cell_type": "code",
      "source": [
        "import cv2\n",
        "import numpy as np\n",
        "import time\n"
      ],
      "metadata": {
        "id": "qO_xtP2Zptek"
      },
      "execution_count": null,
      "outputs": []
    },
    {
      "cell_type": "code",
      "execution_count": null,
      "metadata": {
        "colab": {
          "base_uri": "https://localhost:8080/",
          "height": 228
        },
        "id": "9rbnm02Pn6eA",
        "outputId": "ed89a764-701e-4e27-b3e7-930944b3b4ee"
      },
      "outputs": [
        {
          "output_type": "stream",
          "name": "stdout",
          "text": [
            "Kamera tidak dapat diakses\n"
          ]
        },
        {
          "output_type": "error",
          "ename": "KeyboardInterrupt",
          "evalue": "",
          "traceback": [
            "\u001b[0;31m---------------------------------------------------------------------------\u001b[0m",
            "\u001b[0;31mKeyboardInterrupt\u001b[0m                         Traceback (most recent call last)",
            "\u001b[0;32m/tmp/ipython-input-3320303713.py\u001b[0m in \u001b[0;36m<cell line: 0>\u001b[0;34m()\u001b[0m\n\u001b[1;32m      9\u001b[0m \u001b[0mtombolQditekan\u001b[0m \u001b[0;34m=\u001b[0m \u001b[0;32mFalse\u001b[0m\u001b[0;34m\u001b[0m\u001b[0;34m\u001b[0m\u001b[0m\n\u001b[1;32m     10\u001b[0m \u001b[0;32mwhile\u001b[0m \u001b[0;34m(\u001b[0m\u001b[0mtombolQditekan\u001b[0m \u001b[0;34m==\u001b[0m \u001b[0;32mFalse\u001b[0m\u001b[0;34m)\u001b[0m\u001b[0;34m:\u001b[0m\u001b[0;34m\u001b[0m\u001b[0;34m\u001b[0m\u001b[0m\n\u001b[0;32m---> 11\u001b[0;31m     \u001b[0mret\u001b[0m\u001b[0;34m,\u001b[0m \u001b[0mkerangka\u001b[0m \u001b[0;34m=\u001b[0m \u001b[0mvideoCam\u001b[0m\u001b[0;34m.\u001b[0m\u001b[0mread\u001b[0m\u001b[0;34m(\u001b[0m\u001b[0;34m)\u001b[0m\u001b[0;34m\u001b[0m\u001b[0;34m\u001b[0m\u001b[0m\n\u001b[0m\u001b[1;32m     12\u001b[0m \u001b[0;34m\u001b[0m\u001b[0m\n\u001b[1;32m     13\u001b[0m     \u001b[0;32mif\u001b[0m \u001b[0mret\u001b[0m \u001b[0;34m==\u001b[0m \u001b[0;32mTrue\u001b[0m\u001b[0;34m:\u001b[0m\u001b[0;34m\u001b[0m\u001b[0;34m\u001b[0m\u001b[0m\n",
            "\u001b[0;31mKeyboardInterrupt\u001b[0m: "
          ]
        }
      ],
      "source": [
        "\n",
        "pengklasifikasiWajah  = cv2.CascadeClassifier(\"haarcascade_frontalface_default.xml\")\n",
        "\n",
        "videoCam = cv2.VideoCapture(0)\n",
        "\n",
        "if not videoCam.isOpened():\n",
        "    print(\"Kamera tidak dapat diakses\")\n",
        "    exit()\n",
        "\n",
        "tombolQditekan = False\n",
        "while (tombolQditekan == False):\n",
        "    ret, kerangka = videoCam.read()\n",
        "\n",
        "    if ret == True:\n",
        "        abuAbu = cv2.cvtColor(kerangka, cv2.COLOR_BGR2GRAY)\n",
        "        dafWajah = pengklasifikasiWajah.detectMultiScale(abuAbu, scaleFactor = 1.3, minNeighbors = 2)\n",
        "\n",
        "        for (x, y, w, h) in dafWajah:\n",
        "            cv2.rectangle(kerangka, (x, y), (x + w, y + h), (0, 255, 0), 2)\n",
        "\n",
        "        #print(\"Jumlah Wajah terdeksi: \", len(dafWajah))\n",
        "        teks = \"Jumlah Wajah Terdeteksi = \" + str(len(dafWajah))\n",
        "\n",
        "        font = cv2.FONT_HERSHEY_SIMPLEX\n",
        "        cv2.putText(kerangka, teks, (0, 30), font, 1, (255, 0, 0), 1)\n",
        "\n",
        "        cv2.imshow(\"Hasil\", kerangka)\n",
        "        if cv2.waitKey(1) & 0xFF == ord('q'):\n",
        "            tombolQditekan = True\n",
        "            break\n",
        "\n",
        "\n",
        "videoCam.release()\n",
        "cv2.destroyAllWindows()"
      ]
    }
  ]
}